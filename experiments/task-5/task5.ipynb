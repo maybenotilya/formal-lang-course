{
 "cells": [
  {
   "cell_type": "markdown",
   "metadata": {},
   "source": [
    "# Постановка задачи\n",
    "\n",
    "Пусть дан ориентированный граф $G = (V, E, L)$. Каждому пути $l = l_1, \\dots, l_n$ в этом графе сопоставим слово $\\omega(l) = m_1 \\dots m_n$, полученное конкатенацией меток $m_i$, где $m_i$ -- метка ребра $l_i$. Также пусть даны два множества: $V_s \\subseteq V$ -- множество стартовых вершин в графе и $V_f \\subseteq V$ -- множество финальных вершин в графе.\n",
    "\n",
    "Пусть через регулярное выражение задан регулярный язык $R$.\n",
    "\n",
    "## Достижимость между всеми парами вершин\n",
    "\n",
    "$\\{ (v_s, v_f) \\in V \\times V : \\exists l = v_s \\pi v_f, ~\\omega(l) \\in R \\}$\n",
    "\n",
    "## Достижимость для каждой из заданного множества стартовых вершин\n",
    "\n",
    "$\\{ (v_s, v_f) \\in V_s \\times V_f : \\exists l = v_s \\pi v_f, ~\\omega(l) \\in R \\}$\n",
    "\n",
    "Целью эксперимента является получить ответ на следующие вопросы:\n",
    "\n",
    "1. Какое представление разреженных матриц и векторов лучше подходит для каждой из решаемых задач?\n",
    "2. Начиная с какого размера стартового множества выгоднее решать задачу для всех пар и выбирать нужные?"
   ]
  },
  {
   "cell_type": "markdown",
   "metadata": {},
   "source": [
    "# Описание исследуемых решений\n",
    "\n",
    "## Достижимость между всеми парами вершин\n",
    "\n",
    "Задача о достижимости между всеми парами вершин решается при помощи алгоритма на основе тензорного произведения матриц (`tensor_based_rpq`): по регулярному выражению и графу строятся два автомата на основе матриц смежности, при помощи тензорного произведения ищется пересечение этих автоматов и при помощи транзитивного замыкания полученного пересечения ищутся необходимые пары вершин.\n",
    "\n",
    "## Достижимость для каждой из заданного множества стартовых вершин\n",
    "\n",
    "Задача о достижимости для каждой из заданного множества стартовых вершин решается при помощи multiple source BFS алгоритма (`ms_bfs_based_rpq`): по регулярному выражению и графу строятся два автомата на основе матриц смежности, а затем по ним параллельно из всех стартовых вершин совершается обход в ширину."
   ]
  },
  {
   "cell_type": "markdown",
   "metadata": {},
   "source": [
    "# Описание набора данных для экспериментов\n",
    "\n",
    "В качестве эспериментальных графов были выбраны следующие:\n",
    "1. `skos`\n",
    "2. `wc`\n",
    "3. `generations`\n",
    "4. `atom`\n",
    "\n",
    "Выбор подобных графов обусловлен ограничениями тестового стенда.\n",
    "\n",
    "Пронумеруем метки в графе таким образом, чтобы `m_1` обозначало самую частую, а `m_n` -- самую редкую метку. Тогда в качестве шаблонов для регулярных запросов были выбраны следующие:\n",
    "1. `m_1 | m_2 | ... | m_n` -- все пути в графе длины 1\n",
    "2. `(m_1 | m_2 | ... | m_n)*` -- все пути в графе\n",
    "3. `m_1 . (m_1 | ... | m_n)* . m_n` -- пути, начинающиеся самой частой и заканчивающиеся самой редкой меткой\n",
    "4. `(m_1 | m_2)* . ((m_1* . m_2*) | (m_2* . m_1*))`\n",
    "\n",
    "Выбор запросов обусловлен тем, что они различаются по количеству состояний и переходов в конечном автомате, что влияет на размер и разреженность матрицы смежности.\n",
    "\n",
    "В качестве рассматриваемых типов представления разреженной матрицы выбрались следующие:\n",
    "1. `csr`\n",
    "2. `csc`\n",
    "3. `dok`\n",
    "\n",
    "Выбор этих форматов разреженных матриц обусловлен тем, что только они поддерживают необходимые для работы описанных выше алгоритмов операции, к примеру как присваивание и взятие по индексу."
   ]
  },
  {
   "cell_type": "code",
   "execution_count": 42,
   "metadata": {},
   "outputs": [],
   "source": [
    "import networkx as nx\n",
    "import pandas as pd\n",
    "import numpy as np\n",
    "import cfpq_data\n",
    "import matplotlib.pyplot as plt\n",
    "import seaborn as sns\n",
    "\n",
    "from timeit import timeit\n",
    "\n",
    "from utils import get_graph_info, load_graph\n",
    "from regular.path_query import tensor_based_rpq, ms_bfs_based_rpq"
   ]
  },
  {
   "cell_type": "code",
   "execution_count": 2,
   "metadata": {},
   "outputs": [],
   "source": [
    "def get_sorted_labels(graph: nx.MultiDiGraph):\n",
    "    labels = {}\n",
    "    for _, _, label in graph.edges.data(\"label\"):\n",
    "        labels[label] = labels.get(label, 0) + 1\n",
    "    \n",
    "    return sorted(labels.keys(), key=lambda label: labels[label], reverse=True)"
   ]
  },
  {
   "cell_type": "code",
   "execution_count": 3,
   "metadata": {},
   "outputs": [],
   "source": [
    "graph_names = [\"skos\", \"wc\", \"generations\", \"atom\"]\n",
    "sparse_types = [\"csr\", \"csc\", \"dok\"]\n",
    "\n",
    "def get_regexes_by_graph(graph: nx.MultiDiGraph):\n",
    "    labels = get_sorted_labels(graph)\n",
    "    graph.edges\n",
    "    return [\n",
    "        \"|\".join(labels),\n",
    "        f\"({\"|\".join(labels)})*\",\n",
    "        f\"{labels[0]}.({\"|\".join(labels)}).{labels[-1]}\",\n",
    "        f\"({labels[0]}|{labels[1]})*.(({labels[0]}*.{labels[1]}*)|({labels[1]}*.{labels[0]}*))\"\n",
    "    ]"
   ]
  },
  {
   "cell_type": "markdown",
   "metadata": {},
   "source": [
    "# Описание эксперимента\n",
    "\n",
    "## Тестовый стенд\n",
    "\n",
    "## Методология проведения эксперимента\n",
    "\n",
    "### Какое представление разреженных матриц и векторов лучше подходит для каждой из решаемых задач?\n",
    "\n",
    "Для каждого из алгоритмов и графов считалось среднее по 50 запускам время работы на различных типах разреженных матриц с регулярный запросом вида `(m_1 | m_2 | ... | m_n)*`. Затем для каждого типа разреженноы матриц считалось среднее время работы для всех проведенных замеров. В качестве стартовых и финальных вершин  выбирались все вершины графа.\n",
    "\n",
    "### Начиная с какого размера стартового множества выгоднее решать задачу для всех пар и выбирать нужные?\n",
    "\n",
    "Для каждого алгоритма брался фиксированный тип разреженной матрицы (`csr`), затем для каждого типа регулярного выражения из описанных выше и для каждого графа считалось среднее время работы по 50 запускам для двух алгоритмов и считалась разность между `ms_bfs_based_rpq` и `tensor_based_rpq`. Для тех замеров, где эта разность оказывалась больше нуля, выгоднее было решать задачу для всех пар вершин."
   ]
  },
  {
   "cell_type": "markdown",
   "metadata": {},
   "source": [
    "# Эксперимент"
   ]
  },
  {
   "cell_type": "code",
   "execution_count": 4,
   "metadata": {},
   "outputs": [],
   "source": [
    "NUM_RUNS = 40\n",
    "RANDOM_SEED = 52"
   ]
  },
  {
   "cell_type": "markdown",
   "metadata": {},
   "source": [
    "## Какое представление разреженных матриц и векторов лучше подходит для каждой из решаемых задач?"
   ]
  },
  {
   "cell_type": "code",
   "execution_count": 5,
   "metadata": {},
   "outputs": [],
   "source": [
    "columns = [\"graph\"] + sparse_types"
   ]
  },
  {
   "cell_type": "code",
   "execution_count": null,
   "metadata": {},
   "outputs": [],
   "source": [
    "results = {\n",
    "    \"tensors\": {graph_name: [] for graph_name in graph_names},\n",
    "    \"ms_bfs\": {graph_name: [] for graph_name in graph_names}\n",
    "}\n",
    "\n",
    "for graph_name in graph_names:\n",
    "    graph = load_graph(graph_name)\n",
    "    regex = get_regexes_by_graph(graph)[2]\n",
    "    for sparse_type in sparse_types:\n",
    "        print(sparse_type)\n",
    "        times = {\n",
    "            \"tensors\": [],\n",
    "            \"ms_bfs\": []\n",
    "        }\n",
    "        for _ in range(NUM_RUNS):\n",
    "            times[\"tensors\"].append(timeit(lambda: tensor_based_rpq(regex, graph, sparse_format=sparse_type), number=1))\n",
    "            times[\"ms_bfs\"].append(timeit(lambda: ms_bfs_based_rpq(regex, graph, sparse_format=sparse_type), number=1))\n",
    "        results[\"tensors\"][graph_name].append((np.mean(times[\"tensors\"]), np.std(times[\"tensors\"])))\n",
    "        results[\"ms_bfs\"][graph_name].append((np.mean(times[\"ms_bfs\"]), np.std(times[\"ms_bfs\"])))"
   ]
  },
  {
   "cell_type": "code",
   "execution_count": 12,
   "metadata": {},
   "outputs": [],
   "source": [
    "tensor_df = pd.DataFrame(\n",
    "    [[graph_name] + list(map(lambda x: f\"{x[0]:.3f} +- {x[1]:.3f}\", res)) for graph_name, res in results[\"tensors\"].items()],\n",
    "    columns=columns\n",
    ")"
   ]
  },
  {
   "cell_type": "code",
   "execution_count": 14,
   "metadata": {},
   "outputs": [
    {
     "name": "stdout",
     "output_type": "stream",
     "text": [
      "Результаты для tensor_based_rpq\n"
     ]
    },
    {
     "data": {
      "text/html": [
       "<div>\n",
       "<style scoped>\n",
       "    .dataframe tbody tr th:only-of-type {\n",
       "        vertical-align: middle;\n",
       "    }\n",
       "\n",
       "    .dataframe tbody tr th {\n",
       "        vertical-align: top;\n",
       "    }\n",
       "\n",
       "    .dataframe thead th {\n",
       "        text-align: right;\n",
       "    }\n",
       "</style>\n",
       "<table border=\"1\" class=\"dataframe\">\n",
       "  <thead>\n",
       "    <tr style=\"text-align: right;\">\n",
       "      <th></th>\n",
       "      <th>graph</th>\n",
       "      <th>csr</th>\n",
       "      <th>csc</th>\n",
       "      <th>dok</th>\n",
       "    </tr>\n",
       "  </thead>\n",
       "  <tbody>\n",
       "    <tr>\n",
       "      <th>0</th>\n",
       "      <td>skos</td>\n",
       "      <td>2.233 +- 0.124</td>\n",
       "      <td>2.222 +- 0.106</td>\n",
       "      <td>2.215 +- 0.131</td>\n",
       "    </tr>\n",
       "    <tr>\n",
       "      <th>1</th>\n",
       "      <td>wc</td>\n",
       "      <td>37.203 +- 0.355</td>\n",
       "      <td>37.150 +- 0.176</td>\n",
       "      <td>37.095 +- 0.076</td>\n",
       "    </tr>\n",
       "    <tr>\n",
       "      <th>2</th>\n",
       "      <td>generations</td>\n",
       "      <td>2.273 +- 0.024</td>\n",
       "      <td>2.285 +- 0.022</td>\n",
       "      <td>2.278 +- 0.023</td>\n",
       "    </tr>\n",
       "    <tr>\n",
       "      <th>3</th>\n",
       "      <td>atom</td>\n",
       "      <td>8.454 +- 0.053</td>\n",
       "      <td>8.595 +- 0.027</td>\n",
       "      <td>8.507 +- 0.047</td>\n",
       "    </tr>\n",
       "  </tbody>\n",
       "</table>\n",
       "</div>"
      ],
      "text/plain": [
       "         graph              csr              csc              dok\n",
       "0         skos   2.233 +- 0.124   2.222 +- 0.106   2.215 +- 0.131\n",
       "1           wc  37.203 +- 0.355  37.150 +- 0.176  37.095 +- 0.076\n",
       "2  generations   2.273 +- 0.024   2.285 +- 0.022   2.278 +- 0.023\n",
       "3         atom   8.454 +- 0.053   8.595 +- 0.027   8.507 +- 0.047"
      ]
     },
     "execution_count": 14,
     "metadata": {},
     "output_type": "execute_result"
    }
   ],
   "source": [
    "print(\"Результаты для tensor_based_rpq\")\n",
    "tensor_df"
   ]
  },
  {
   "cell_type": "code",
   "execution_count": 15,
   "metadata": {},
   "outputs": [],
   "source": [
    "ms_bfs_df = pd.DataFrame(\n",
    "    [[graph_name] + list(map(lambda x: f\"{x[0]:.3f} +- {x[1]:.3f}\", res)) for graph_name, res in results[\"ms_bfs\"].items()],\n",
    "    columns=columns\n",
    ")"
   ]
  },
  {
   "cell_type": "code",
   "execution_count": 58,
   "metadata": {},
   "outputs": [
    {
     "data": {
      "image/png": "[encoded data removed]",
      "text/plain": [
       "<Figure size 1300x600 with 1 Axes>"
      ]
     },
     "metadata": {},
     "output_type": "display_data"
    }
   ],
   "source": [
    "plot_tensor_df = pd.DataFrame(\n",
    "    [[graph_name] + list(map(lambda x: x[0], res)) for graph_name, res in results[\"tensors\"].items()],\n",
    "    columns=columns\n",
    ").melt(id_vars=[\"graph\"], value_vars=sparse_types, var_name=\"type\", value_name=\"value\")\n",
    "\n",
    "\n",
    "plt.figure(figsize=(13, 6))\n",
    "sns.barplot(data=plot_tensor_df, x=\"graph\", y=\"value\", hue=\"type\")\n",
    "plt.xlabel('Граф')\n",
    "plt.ylabel('Время (с.)')\n",
    "plt.title('Замеры времени для tensor_based_rpq')\n",
    "plt.legend(title='Тип')\n",
    "plt.show()"
   ]
  },
  {
   "cell_type": "code",
   "execution_count": 16,
   "metadata": {},
   "outputs": [
    {
     "name": "stdout",
     "output_type": "stream",
     "text": [
      "Результаты для ms_bfs_based_rpq\n"
     ]
    },
    {
     "data": {
      "text/html": [
       "<div>\n",
       "<style scoped>\n",
       "    .dataframe tbody tr th:only-of-type {\n",
       "        vertical-align: middle;\n",
       "    }\n",
       "\n",
       "    .dataframe tbody tr th {\n",
       "        vertical-align: top;\n",
       "    }\n",
       "\n",
       "    .dataframe thead th {\n",
       "        text-align: right;\n",
       "    }\n",
       "</style>\n",
       "<table border=\"1\" class=\"dataframe\">\n",
       "  <thead>\n",
       "    <tr style=\"text-align: right;\">\n",
       "      <th></th>\n",
       "      <th>graph</th>\n",
       "      <th>csr</th>\n",
       "      <th>csc</th>\n",
       "      <th>dok</th>\n",
       "    </tr>\n",
       "  </thead>\n",
       "  <tbody>\n",
       "    <tr>\n",
       "      <th>0</th>\n",
       "      <td>skos</td>\n",
       "      <td>1.029 +- 0.026</td>\n",
       "      <td>1.019 +- 0.042</td>\n",
       "      <td>1.190 +- 0.036</td>\n",
       "    </tr>\n",
       "    <tr>\n",
       "      <th>1</th>\n",
       "      <td>wc</td>\n",
       "      <td>0.514 +- 0.013</td>\n",
       "      <td>0.523 +- 0.016</td>\n",
       "      <td>0.614 +- 0.017</td>\n",
       "    </tr>\n",
       "    <tr>\n",
       "      <th>2</th>\n",
       "      <td>generations</td>\n",
       "      <td>1.364 +- 0.032</td>\n",
       "      <td>1.352 +- 0.031</td>\n",
       "      <td>1.617 +- 0.023</td>\n",
       "    </tr>\n",
       "    <tr>\n",
       "      <th>3</th>\n",
       "      <td>atom</td>\n",
       "      <td>1.626 +- 0.042</td>\n",
       "      <td>1.626 +- 0.050</td>\n",
       "      <td>1.945 +- 0.047</td>\n",
       "    </tr>\n",
       "  </tbody>\n",
       "</table>\n",
       "</div>"
      ],
      "text/plain": [
       "         graph             csr             csc             dok\n",
       "0         skos  1.029 +- 0.026  1.019 +- 0.042  1.190 +- 0.036\n",
       "1           wc  0.514 +- 0.013  0.523 +- 0.016  0.614 +- 0.017\n",
       "2  generations  1.364 +- 0.032  1.352 +- 0.031  1.617 +- 0.023\n",
       "3         atom  1.626 +- 0.042  1.626 +- 0.050  1.945 +- 0.047"
      ]
     },
     "execution_count": 16,
     "metadata": {},
     "output_type": "execute_result"
    }
   ],
   "source": [
    "print(\"Результаты для ms_bfs_based_rpq\")\n",
    "ms_bfs_df"
   ]
  },
  {
   "cell_type": "code",
   "execution_count": 59,
   "metadata": {},
   "outputs": [
    {
     "data": {
      "image/png": "[encoded data removed]",
      "text/plain": [
       "<Figure size 1300x600 with 1 Axes>"
      ]
     },
     "metadata": {},
     "output_type": "display_data"
    }
   ],
   "source": [
    "plot_ms_bfs_df = pd.DataFrame(\n",
    "    [[graph_name] + list(map(lambda x: x[0], res)) for graph_name, res in results[\"ms_bfs\"].items()],\n",
    "    columns=columns\n",
    ").melt(id_vars=[\"graph\"], value_vars=sparse_types, var_name=\"type\", value_name=\"value\")\n",
    "\n",
    "\n",
    "plt.figure(figsize=(13, 6))\n",
    "sns.barplot(data=plot_ms_bfs_df, x=\"graph\", y=\"value\", hue=\"type\")\n",
    "plt.xlabel('Граф')\n",
    "plt.ylabel('Время (с.)')\n",
    "plt.title('Замеры времени для ms_bfs_based_rpq')\n",
    "plt.legend(title='Тип')\n",
    "plt.show()"
   ]
  },
  {
   "cell_type": "markdown",
   "metadata": {},
   "source": [
    "Из таблиц и графиков видно, что для `tensor_based_rpq` не играет большой разницы, какой формат представления разреженной матрицы брать. Однако для `ms_bfs_based_rpq` представление в формате `dok` снижает производительность по отношению к `csr` и `csc`, поэтому не рекомендуется его использовать."
   ]
  }
 ],
 "metadata": {
  "kernelspec": {
   "display_name": ".venv",
   "language": "python",
   "name": "python3"
  },
  "language_info": {
   "codemirror_mode": {
    "name": "ipython",
    "version": 3
   },
   "file_extension": ".py",
   "mimetype": "text/x-python",
   "name": "python",
   "nbconvert_exporter": "python",
   "pygments_lexer": "ipython3",
   "version": "3.12.5"
  }
 },
 "nbformat": 4,
 "nbformat_minor": 2
}
